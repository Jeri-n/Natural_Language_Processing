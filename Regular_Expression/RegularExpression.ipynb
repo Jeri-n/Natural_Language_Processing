{
 "cells": [
  {
   "cell_type": "code",
   "execution_count": 2,
   "metadata": {},
   "outputs": [],
   "source": [
    "import re"
   ]
  },
  {
   "cell_type": "code",
   "execution_count": null,
   "metadata": {},
   "outputs": [],
   "source": [
    "# sample:\n",
    "# chatbot : Please share youremail ID and phone number.\n",
    "# user : Here you go: email id is jerin@gmail.com and my phone number is 9847654654, also my alternative number (701)-2785-465"
   ]
  },
  {
   "cell_type": "code",
   "execution_count": 9,
   "metadata": {},
   "outputs": [
    {
     "data": {
      "text/plain": [
       "['9847654654', '+918989898989', '+91-9898989898', '(701)-2785-465']"
      ]
     },
     "execution_count": 9,
     "metadata": {},
     "output_type": "execute_result"
    }
   ],
   "source": [
    "chatbot = \" Please share youremail ID and phone number.\"\n",
    "user= \" user: Here you go: email id is jerin@gmail.com and my phone number is 9847654654,+918989898989,+91-9898989898 also my office number is (701)-2785-465\"\n",
    "\n",
    "pattern = \"\\(\\d{3}\\)-\\d{4}-\\d{3}|\\d{10}|\\+\\d{12}|\\+\\d{2}\\-\\d{10}\"  # | is OR    # () for separating groups\n",
    "\n",
    "matches_numb = re.findall(pattern,user)\n",
    "matches_numb"
   ]
  },
  {
   "cell_type": "code",
   "execution_count": 14,
   "metadata": {},
   "outputs": [
    {
     "data": {
      "text/plain": [
       "['jerin@gmail.com']"
      ]
     },
     "execution_count": 14,
     "metadata": {},
     "output_type": "execute_result"
    }
   ],
   "source": [
    "pattern = \"[a-zA-Z]*\\@[a-z]*\\.[a-zA-Z]*\"\n",
    "\n",
    "matches_email = re.findall(pattern,user)\n",
    "matches_email\n",
    "\n"
   ]
  },
  {
   "cell_type": "code",
   "execution_count": 15,
   "metadata": {},
   "outputs": [
    {
     "data": {
      "text/plain": [
       "[('FY2021 Q1', '$4.567'), ('FY2020 Q4', '$3')]"
      ]
     },
     "execution_count": 15,
     "metadata": {},
     "output_type": "execute_result"
    }
   ],
   "source": [
    "# sample 2\n",
    "text = \"\"\"\n",
    "teslas gross cost of operating in FY2021 Q1 was very high $4.567 billion. \n",
    "In previous quarter ie. FY2020 Q4 it was $3 billion\n",
    "\n",
    "\"\"\"\n",
    "pattern = \"(FY\\d{4} Q[1-4]) [^$]+ (\\$[0-9\\.]+)\"\n",
    "\n",
    "matches = re.findall(pattern,text)\n",
    "matches\n",
    "\n"
   ]
  },
  {
   "cell_type": "code",
   "execution_count": 20,
   "metadata": {},
   "outputs": [
    {
     "name": "stdout",
     "output_type": "stream",
     "text": [
      "Requirement already satisfied: PyMuPDF in c:\\users\\hp\\anaconda3\\lib\\site-packages (1.20.2)\n"
     ]
    }
   ],
   "source": [
    "# install using pip install PyMuPDF\n",
    "! pip install PyMuPDF\n"
   ]
  },
  {
   "cell_type": "code",
   "execution_count": 22,
   "metadata": {},
   "outputs": [
    {
     "name": "stdout",
     "output_type": "stream",
     "text": [
      "JERIN LALICHAN\n",
      "Intern Data Scientist\n",
      "About Me\n",
      "Experience\n",
      "Luminar Technolab - Intern Data Scientist\n",
      "January 2022 -  Present\n",
      "Conditional Statements, Looping,  control Statements, \n",
      "String Manipulation, Lists, Tuple, Dictionaries, Functions\n",
      "Exception Handling, OOPS Concepts, Regular Expressions,\n",
      "Multithreading, Functional Programming.\n",
      "Python And Advanced Python \n",
      "Linear Algebra Concepts \n",
      "Introductory statistics \n",
      "Probability concepts\n",
      "Mathematics for Data Science\n",
      "Exploratory Data Analytics using Python (EDA), Data\n",
      "Visualization, \n",
      "EDA, Data Science & ML\n",
      "Hardworking and passionate individual, Currently\n",
      "Pursuing an Internship in Python-Data science and\n",
      "looking for job opportunities.\n",
      "SKILLS\n",
      "NumPy\n",
      "Scikit-Learn\n",
      "Pandas\n",
      "Python:\n",
      "End-to-End EDA\n",
      "Feature Engineering, Feature Selection\n",
      "Regression \n",
      "Classification \n",
      "Clustering\n",
      "Statistics\n",
      "Regularization\n",
      "Machine Learning :\n",
      "Supervised Learning - Regression (Simple Linear Regression,\n",
      "Logistic Regression, Multiple Linear Regression, Polynomial\n",
      "Regression, Decision Tree Regression, Evaluating Regression\n",
      "Model Parameters), Classification (KNN, Naive Bayes,\n",
      "Decision Tree, Random Forest, SVM)\n",
      "Unsupervised Machine Learning - K-Means Clustering, Elbow\n",
      "Method for the optimal value of k in K-Means\n",
      "Amazon - Tron Associate \n",
      "July 2021 - April 2022\n",
      "jerinlalichan@gmail.com\n",
      "Kunnumpurathu (H) Ramapuram P O, PIN:\n",
      "686576 Ramapuram, Kottayam\n",
      "918921931398 , 919496396456\n",
      "GitHub:\n",
      "https://github.com/Jeri-n\n",
      "LinkedIn: \n",
      " https://www.linkedin.com/in/jerinlalichan/\n",
      "CONTACT\n",
      "ANN\n",
      "CNN\n",
      "Transfer Learning\n",
      "NLP\n",
      "Tensorflow\n",
      "Deep Learning :\n",
      "Blog:  \n",
      "https://thedatamatics.blogspot.com/\n",
      "Personal Details\n",
      "Age : 24\n",
      "DOB : 01/01/1998\n",
      "Marital Status : Single\n",
      "Neural Networks, ANN, CNN, CNN Alexnet\n",
      "Transfer Learning\n",
      "Natural Language Processing(NLP), NLTK, TFIDF\n",
      "Keras, Tensorflow, \n",
      "Open Computer Vision (OpenCV), Optical Character\n",
      "Recognition (OCR),\n",
      "Deep Learning\n",
      "SKILLS\n",
      "Python\n",
      "ML\n",
      "AI\n",
      "Tableau\n",
      "70 %\n",
      "75 %\n",
      "60 %\n",
      "60 %\n",
      "Soft Skill\n",
      "Leadership\n",
      "Analytical Thinking\n",
      "Creative Problem Solving\n",
      "Communication\n",
      "Education Background\n",
      "BACHELOR OF TECHNOLOGY (B Tech.)  IN CIVIL ENGINEERING \n",
      "Rajagiri School of Engineering and Technology, Kochi\n",
      "Kerala Technical University (KTU)  I  2016 – 2020     \n",
      "CGPA: 8.37 \n",
      "12th\n",
      "St. Jerome's HSS, Vellayamkudy\n",
      "Kerala Board  |  2013 - 2015\n",
      "Percentage: 92.5 % - Bio Maths\n",
      "10th\n",
      "St. Jerome's HSS, Vellayamkudy\n",
      "Kerala Board  |  2012 - 2013\n",
      "Percentage: 91 %\n",
      "Course in Data Science-Python From\n",
      "Luminar Technolab\n",
      "NACTET :\n",
      "Certifications\n",
      "Development Tools\n",
      "Visual Studio\n",
      "Jupyter Notebook\n",
      "Google Colab\n",
      "PyCharm\n",
      "Eclipse\n",
      "Projects\n",
      " Diabetes Prediction Model \n",
      "1.\n",
      "2.  Virtual Canvas \n",
      "DL\n",
      "50 %\n",
      "End-to-end project in which diabetes dataset is used to\n",
      "build a Machine learning model - Classification problem,\n",
      "to predict if a patient is diabetic or not. \n",
      "All classification algorithms are used and the best\n",
      "performing algorithm was found to be Adaboost classifier.\n",
      "The model is created, and the files are pushed to GitHub\n",
      "repository (LINK) and deployed in Heroku.\n",
      "URL: https://ai-diabetes-predictor.herokuapp.com/\n",
      "Tableau\n",
      "Jupyter Notebook\n",
      "Visualization:\n",
      "Git, GitHub\n",
      "Heroku\n",
      "Cloud:\n",
      "In this, I have created a virtual canvas for Teaching\n",
      "purposes and other purposes, using OpenCV.\n",
      "Hand detection is used. Raising two fingers for selection\n",
      "mode, one finger for drawing mode, and all fingers for\n",
      "erasing mode.\n",
      "The interface consists of tools to select a few colors, an\n",
      "eraser button, option to draw rectangles, circles, and\n",
      "straight lines using a few fingers. Also, I have provided\n",
      "palm erasing mode, in which we can erase by just\n",
      "showing the palm (with an adjustable eraser diameter)\n",
      "Git hub repository LINK\n",
      "OpenCV\n",
      "Computer Vision \n",
      "\n"
     ]
    }
   ],
   "source": [
    "\n",
    "import fitz\n",
    "with fitz.open('myResumepdf.pdf') as doc:\n",
    "    text = \"\"\n",
    "\n",
    "    for page in doc:\n",
    "        text += page.get_text()\n",
    "\n",
    "print(text)\n"
   ]
  },
  {
   "cell_type": "code",
   "execution_count": 23,
   "metadata": {},
   "outputs": [
    {
     "data": {
      "text/plain": [
       "['https://github.com/Jeri-n',\n",
       " 'https://www.linkedin.com/in/jerinlalichan/',\n",
       " 'https://thedatamatics.blogspot.com/',\n",
       " 'https://ai-diabetes-predictor.herokuapp.com/']"
      ]
     },
     "execution_count": 23,
     "metadata": {},
     "output_type": "execute_result"
    }
   ],
   "source": [
    "# Find hyperLinks\n",
    "\n",
    "pattern = \"https://\\S*\"\n",
    "\n",
    "matches_links = re.findall(pattern,text)\n",
    "matches_links"
   ]
  },
  {
   "cell_type": "code",
   "execution_count": null,
   "metadata": {},
   "outputs": [],
   "source": []
  }
 ],
 "metadata": {
  "kernelspec": {
   "display_name": "Python 3.9.7 ('base')",
   "language": "python",
   "name": "python3"
  },
  "language_info": {
   "codemirror_mode": {
    "name": "ipython",
    "version": 3
   },
   "file_extension": ".py",
   "mimetype": "text/x-python",
   "name": "python",
   "nbconvert_exporter": "python",
   "pygments_lexer": "ipython3",
   "version": "3.9.7"
  },
  "orig_nbformat": 4,
  "vscode": {
   "interpreter": {
    "hash": "dc07d24e2f18896857f0b2a651fe84ba40ce7b297e58d8804a308c8039f752a6"
   }
  }
 },
 "nbformat": 4,
 "nbformat_minor": 2
}
